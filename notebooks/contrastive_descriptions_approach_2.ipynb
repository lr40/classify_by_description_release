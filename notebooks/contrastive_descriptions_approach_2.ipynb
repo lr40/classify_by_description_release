{
 "cells": [
  {
   "cell_type": "code",
   "execution_count": 1,
   "metadata": {},
   "outputs": [],
   "source": [
    "from transformers import AutoTokenizer, LlamaForCausalLM\n",
    "import transformers\n",
    "import torch"
   ]
  },
  {
   "cell_type": "code",
   "execution_count": 2,
   "metadata": {},
   "outputs": [
    {
     "name": "stdout",
     "output_type": "stream",
     "text": [
      "Cuda available:  True\n"
     ]
    },
    {
     "data": {
      "application/vnd.jupyter.widget-view+json": {
       "model_id": "f9b9172ef00946928f3b3bb53edb7b7f",
       "version_major": 2,
       "version_minor": 0
      },
      "text/plain": [
       "Loading checkpoint shards:   0%|          | 0/2 [00:00<?, ?it/s]"
      ]
     },
     "metadata": {},
     "output_type": "display_data"
    }
   ],
   "source": [
    "model_name= \"meta-llama/Llama-2-7b-chat-hf\"\n",
    "tokenizer = AutoTokenizer.from_pretrained(model_name)\n",
    "print(\"Cuda available: \", torch.cuda.is_available())\n",
    "model = LlamaForCausalLM.from_pretrained(\n",
    "    model_name,\n",
    "    device_map = \"auto\",\n",
    ")"
   ]
  },
  {
   "cell_type": "code",
   "execution_count": 3,
   "metadata": {},
   "outputs": [],
   "source": [
    "pairs_to_contrast =[(\"Red cockaded Woodpecker\", \"American Three toed Woodpecker\"),\n",
    "                    (\"Louisiana Waterthrush\", \"Northern Waterthrush\"),\n",
    "                    (\"Chuck will Widow\",\"Nighthawk\"),\n",
    "                    (\"Anna Hummingbird\",\"Ruby throated Hummingbird\"),\n",
    "                    (\"Artic Tern\",\"Common Tern\")]"
   ]
  },
  {
   "cell_type": "code",
   "execution_count": 5,
   "metadata": {},
   "outputs": [
    {
     "data": {
      "text/plain": [
       "['Chuck_will_Widow',\n",
       " 'Anna_Hummingbird',\n",
       " 'Ruby_throated_Hummingbird',\n",
       " 'Nighthawk',\n",
       " 'Artic_Tern',\n",
       " 'Common_Tern',\n",
       " 'Northern_Waterthrush',\n",
       " 'Louisiana_Waterthrush',\n",
       " 'American_Three_toed_Woodpecker',\n",
       " 'Red_cockaded_Woodpecker']"
      ]
     },
     "execution_count": 5,
     "metadata": {},
     "output_type": "execute_result"
    }
   ],
   "source": [
    "def read_cub_classes():\n",
    "    cub_classes = []\n",
    "    with open('/export/scratch/ru86qer/datasets/cub_xxx_modified/CUB_200_2011/classes.txt', 'r') as f:\n",
    "        cub_classes = [line.strip().split(' ')[1].split('.')[1] for line in f.readlines()]\n",
    "    return cub_classes\n",
    "cub_classes=read_cub_classes()\n",
    "cub_classes"
   ]
  },
  {
   "cell_type": "code",
   "execution_count": 6,
   "metadata": {},
   "outputs": [
    {
     "data": {
      "text/plain": [
       "[('Chuck will Widow', 0, []),\n",
       " ('Anna Hummingbird', 1, []),\n",
       " ('Ruby throated Hummingbird', 2, []),\n",
       " ('Nighthawk', 3, []),\n",
       " ('Artic Tern', 4, []),\n",
       " ('Common Tern', 5, []),\n",
       " ('Northern Waterthrush', 6, []),\n",
       " ('Louisiana Waterthrush', 7, []),\n",
       " ('American Three toed Woodpecker', 8, []),\n",
       " ('Red cockaded Woodpecker', 9, [])]"
      ]
     },
     "execution_count": 6,
     "metadata": {},
     "output_type": "execute_result"
    }
   ],
   "source": [
    "pairs_to_contrast_with_idx = []\n",
    "for pair in pairs_to_contrast:\n",
    "    pairs_to_contrast_with_idx.append((pair[0],cub_classes.index(pair[0].replace(' ','_')),pair[1],cub_classes.index(pair[1].replace(' ','_'))))\n",
    "    pairs_to_contrast_with_idx.append((pair[1],cub_classes.index(pair[1].replace(' ','_')),))\n",
    "pairs_to_contrast_with_idx.sort(key=lambda x: x[1])\n",
    "pairs_to_contrast_with_idx"
   ]
  },
  {
   "cell_type": "code",
   "execution_count": 7,
   "metadata": {},
   "outputs": [
    {
     "data": {
      "text/plain": [
       "{'Chuck will Widow': 0,\n",
       " 'Anna Hummingbird': 1,\n",
       " 'Ruby throated Hummingbird': 2,\n",
       " 'Nighthawk': 3,\n",
       " 'Artic Tern': 4,\n",
       " 'Common Tern': 5,\n",
       " 'Northern Waterthrush': 6,\n",
       " 'Louisiana Waterthrush': 7,\n",
       " 'American Three toed Woodpecker': 8,\n",
       " 'Red cockaded Woodpecker': 9}"
      ]
     },
     "execution_count": 7,
     "metadata": {},
     "output_type": "execute_result"
    }
   ],
   "source": [
    "name_to_idx = {pair[0]:pair[1] for pair in pairs_to_contrast_with_idx}\n",
    "name_to_idx"
   ]
  },
  {
   "cell_type": "code",
   "execution_count": 8,
   "metadata": {},
   "outputs": [],
   "source": [
    "prompt_index = 3\n",
    "with open('/export/home/ru86qer/classify_by_description_release/prompts/prompt'+\"_{0}.txt\".format(prompt_index), 'r') as f:\n",
    "    base_prompt = f.read()"
   ]
  },
  {
   "cell_type": "code",
   "execution_count": 9,
   "metadata": {},
   "outputs": [],
   "source": [
    "prompts = []\n",
    "for pair in pairs_to_contrast:\n",
    "    prompts.append(base_prompt.format(category_name_1=pair[0], category_name_0=pair[1]))\n",
    "    prompts.append(base_prompt.format(category_name_1=pair[1], category_name_0=pair[0]))"
   ]
  },
  {
   "cell_type": "code",
   "execution_count": 10,
   "metadata": {},
   "outputs": [],
   "source": [
    "responses=[]\n",
    "for prompt in prompts:\n",
    "    inputs = tokenizer(prompt, return_tensors=\"pt\")\n",
    "    inputs = inputs.to('cuda')\n",
    "    # Generate\n",
    "    generate_ids = model.generate(inputs.input_ids, max_length=len(inputs.input_ids[0])+200, top_k=1, num_return_sequences=1, do_sample=True)\n",
    "\n",
    "    decoded_response = tokenizer.batch_decode(generate_ids, skip_special_tokens=True, clean_up_tokenization_spaces=False)[0]\n",
    "    response_text = decoded_response[(len(prompt)-7):]\n",
    "    responses.append(response_text)"
   ]
  },
  {
   "cell_type": "code",
   "execution_count": 11,
   "metadata": {},
   "outputs": [
    {
     "data": {
      "text/plain": [
       "['cker:\\n- medium-sized woodpecker\\n- three distinct toes on each foot\\n- black and white striped back\\n- white underside\\n- black crown and nape\\n- white face with black stripes\\n- black bill with red spot near the base\\n- Red cockaded Woodpecker has a red cap on the head\\n- Red cockaded Woodpecker has a red stripe on the side of the neck\\n- Red cockaded Woodpecker has a red patch on the upperwing\\n\\n',\n",
       " 'cker:\\n- small to medium-sized woodpecker\\n- red cap on the head\\n- white stripe above the eye\\n- black stripe below the eye\\n- white underside of the wing\\n- black back and wings with white spots\\n- black tail with white outer feathers\\n- white outer tail feathers\\n- black legs and feet\\n\\n\\n',\n",
       " 'rush:\\n- large, slate-gray bird\\n- darker gray on the back and wings\\n- pale yellow-green upperparts\\n- white undersides\\n- dark-gray legs and feet\\n- distinctive white outer tail feathers\\n- dark-gray bill with a yellow-green base\\n- dark brown eyes\\n- distinctive white eyering\\n- distinctive white stripe on the side of the face\\n\\n\\n',\n",
       " 'rush:\\n- darker overall than Northern Waterthrush\\n- warm reddish-brown upperparts\\n- darker wings with distinctive dark wing bars\\n- pale yellowish-brown underparts\\n- distinctive white eyebrow stripe\\n- dark brown bill with yellow-green base\\n- legs and feet are dark grey to black\\n\\n\\n',\n",
       " 'idow:\\n- large, broad-winged bird\\n- dark brown to black plumage with distinctive white patches on the secondaries\\n- large, broad wings with a distinctive black leading edge\\n- long, pointed tail with white outer feathers\\n- large, dark eyes with a distinctive white ring around the iris\\n- long, pointed bill with a distinctive downward curve\\n- dark legs and feet\\n- distinctive flight pattern: slow, steady, and low to the ground, with a distinctive \"flap-gliding\" motion\\n\\n\\n',\n",
       " 'hawk:\\n- large, broad-winged bird\\n- dark brown upperparts with distinctive white wing patches\\n- pale yellowish-brown underparts\\n- distinctive white stripe above the eye\\n- dark brown bill with a yellowish base\\n- legs and feet are dark brown\\n- distinctive flight pattern: slow, steady, and labored with a distinctive \"waddling\" gait\\n- does not have the swift, direct flight of a Nighthawk\\n- does not have the distinctive \"flying-V\" shape of a Nighthawk in flight\\n\\n\\n',\n",
       " 'bird:\\n- iridescent red throat patch\\n- green back and sides\\n- white belly and undertail coverts\\n- dark brown tail with white outer feathers\\n- white outer tail feathers\\n- dark brown legs and feet\\n- long, slender, straight bill\\n- dark brown eyes\\n- no distinctive eye stripe\\n- no white spot on the throat\\n\\n',\n",
       " 'bird:\\n- small, slender hummingbird\\n- iridescent green back and wings\\n- purple throat patch\\n- white belly and undertail coverts\\n- dark brown tail with white outer feathers\\n- dark brown bill with pinkish base\\n- dark brown eyes\\n- long, slender, dark brown tail\\n- legs and feet are dark greyish-black\\n\\n\\n',\n",
       " 'Tern:\\n- slender, agile bird\\n- dark grey upperparts\\n- white underparts\\n- pale yellow-green bill\\n- dark eye stripe\\n- dark legs and webbed feet\\n- foraging in the water, swimming and diving with ease\\n- distinctive black and white striped head and neck\\n- long, pointed tail\\n- breeds in colonies on rocky coasts and islands\\n- winters in coastal areas\\n\\n',\n",
       " 'Tern:\\n- larger and more slender than Common Tern\\n- dark grey upperparts\\n- pale grey-white underparts\\n- dark grey bill with dark grey or blackish tip\\n- dark brown eyes\\n- pale yellow legs and feet\\n- forked tail\\n- breeds in the Arctic and sub-Arctic regions\\n- non-breeding plumage similar to Common Tern but with darker grey upperparts and pale grey-white underparts\\n\\n']"
      ]
     },
     "execution_count": 11,
     "metadata": {},
     "output_type": "execute_result"
    }
   ],
   "source": [
    "responses"
   ]
  },
  {
   "cell_type": "code",
   "execution_count": 12,
   "metadata": {},
   "outputs": [],
   "source": [
    "responses_1 = [response[8:] for response in responses]"
   ]
  },
  {
   "cell_type": "code",
   "execution_count": 13,
   "metadata": {},
   "outputs": [
    {
     "data": {
      "text/plain": [
       "[['medium-sized woodpecker',\n",
       "  '- three distinct toes on each foot',\n",
       "  '- black and white striped back',\n",
       "  '- white underside',\n",
       "  '- black crown and nape',\n",
       "  '- white face with black stripes',\n",
       "  '- black bill with red spot near the base',\n",
       "  '- Red cockaded Woodpecker has a red cap on the head',\n",
       "  '- Red cockaded Woodpecker has a red stripe on the side of the neck',\n",
       "  '- Red cockaded Woodpecker has a red patch on the upperwing',\n",
       "  '',\n",
       "  ''],\n",
       " ['small to medium-sized woodpecker',\n",
       "  '- red cap on the head',\n",
       "  '- white stripe above the eye',\n",
       "  '- black stripe below the eye',\n",
       "  '- white underside of the wing',\n",
       "  '- black back and wings with white spots',\n",
       "  '- black tail with white outer feathers',\n",
       "  '- white outer tail feathers',\n",
       "  '- black legs and feet',\n",
       "  '',\n",
       "  '',\n",
       "  ''],\n",
       " ['large, slate-gray bird',\n",
       "  '- darker gray on the back and wings',\n",
       "  '- pale yellow-green upperparts',\n",
       "  '- white undersides',\n",
       "  '- dark-gray legs and feet',\n",
       "  '- distinctive white outer tail feathers',\n",
       "  '- dark-gray bill with a yellow-green base',\n",
       "  '- dark brown eyes',\n",
       "  '- distinctive white eyering',\n",
       "  '- distinctive white stripe on the side of the face',\n",
       "  '',\n",
       "  '',\n",
       "  ''],\n",
       " ['darker overall than Northern Waterthrush',\n",
       "  '- warm reddish-brown upperparts',\n",
       "  '- darker wings with distinctive dark wing bars',\n",
       "  '- pale yellowish-brown underparts',\n",
       "  '- distinctive white eyebrow stripe',\n",
       "  '- dark brown bill with yellow-green base',\n",
       "  '- legs and feet are dark grey to black',\n",
       "  '',\n",
       "  '',\n",
       "  ''],\n",
       " ['large, broad-winged bird',\n",
       "  '- dark brown to black plumage with distinctive white patches on the secondaries',\n",
       "  '- large, broad wings with a distinctive black leading edge',\n",
       "  '- long, pointed tail with white outer feathers',\n",
       "  '- large, dark eyes with a distinctive white ring around the iris',\n",
       "  '- long, pointed bill with a distinctive downward curve',\n",
       "  '- dark legs and feet',\n",
       "  '- distinctive flight pattern: slow, steady, and low to the ground, with a distinctive \"flap-gliding\" motion',\n",
       "  '',\n",
       "  '',\n",
       "  ''],\n",
       " ['large, broad-winged bird',\n",
       "  '- dark brown upperparts with distinctive white wing patches',\n",
       "  '- pale yellowish-brown underparts',\n",
       "  '- distinctive white stripe above the eye',\n",
       "  '- dark brown bill with a yellowish base',\n",
       "  '- legs and feet are dark brown',\n",
       "  '- distinctive flight pattern: slow, steady, and labored with a distinctive \"waddling\" gait',\n",
       "  '- does not have the swift, direct flight of a Nighthawk',\n",
       "  '- does not have the distinctive \"flying-V\" shape of a Nighthawk in flight',\n",
       "  '',\n",
       "  '',\n",
       "  ''],\n",
       " ['iridescent red throat patch',\n",
       "  '- green back and sides',\n",
       "  '- white belly and undertail coverts',\n",
       "  '- dark brown tail with white outer feathers',\n",
       "  '- white outer tail feathers',\n",
       "  '- dark brown legs and feet',\n",
       "  '- long, slender, straight bill',\n",
       "  '- dark brown eyes',\n",
       "  '- no distinctive eye stripe',\n",
       "  '- no white spot on the throat',\n",
       "  '',\n",
       "  ''],\n",
       " ['small, slender hummingbird',\n",
       "  '- iridescent green back and wings',\n",
       "  '- purple throat patch',\n",
       "  '- white belly and undertail coverts',\n",
       "  '- dark brown tail with white outer feathers',\n",
       "  '- dark brown bill with pinkish base',\n",
       "  '- dark brown eyes',\n",
       "  '- long, slender, dark brown tail',\n",
       "  '- legs and feet are dark greyish-black',\n",
       "  '',\n",
       "  '',\n",
       "  ''],\n",
       " ['slender, agile bird',\n",
       "  '- dark grey upperparts',\n",
       "  '- white underparts',\n",
       "  '- pale yellow-green bill',\n",
       "  '- dark eye stripe',\n",
       "  '- dark legs and webbed feet',\n",
       "  '- foraging in the water, swimming and diving with ease',\n",
       "  '- distinctive black and white striped head and neck',\n",
       "  '- long, pointed tail',\n",
       "  '- breeds in colonies on rocky coasts and islands',\n",
       "  '- winters in coastal areas',\n",
       "  '',\n",
       "  ''],\n",
       " ['larger and more slender than Common Tern',\n",
       "  '- dark grey upperparts',\n",
       "  '- pale grey-white underparts',\n",
       "  '- dark grey bill with dark grey or blackish tip',\n",
       "  '- dark brown eyes',\n",
       "  '- pale yellow legs and feet',\n",
       "  '- forked tail',\n",
       "  '- breeds in the Arctic and sub-Arctic regions',\n",
       "  '- non-breeding plumage similar to Common Tern but with darker grey upperparts and pale grey-white underparts',\n",
       "  '',\n",
       "  '']]"
      ]
     },
     "execution_count": 13,
     "metadata": {},
     "output_type": "execute_result"
    }
   ],
   "source": [
    "responses_1 = [response.split('\\n') for response in responses_1]\n",
    "responses_1"
   ]
  },
  {
   "cell_type": "code",
   "execution_count": 16,
   "metadata": {},
   "outputs": [],
   "source": [
    "def filtered(sublist):\n",
    "    return [item for item in sublist if item.startswith('-')]\n",
    "\n",
    "descriptor_dict = {}\n",
    "for key in name_to_idx.keys():\n",
    "        descriptor_dict[key]=responses_1[name_to_idx[key]]"
   ]
  },
  {
   "cell_type": "code",
   "execution_count": 17,
   "metadata": {},
   "outputs": [
    {
     "data": {
      "text/plain": [
       "{'Chuck will Widow': ['medium-sized woodpecker',\n",
       "  '- three distinct toes on each foot',\n",
       "  '- black and white striped back',\n",
       "  '- white underside',\n",
       "  '- black crown and nape',\n",
       "  '- white face with black stripes',\n",
       "  '- black bill with red spot near the base',\n",
       "  '- Red cockaded Woodpecker has a red cap on the head',\n",
       "  '- Red cockaded Woodpecker has a red stripe on the side of the neck',\n",
       "  '- Red cockaded Woodpecker has a red patch on the upperwing',\n",
       "  '',\n",
       "  ''],\n",
       " 'Anna Hummingbird': ['small to medium-sized woodpecker',\n",
       "  '- red cap on the head',\n",
       "  '- white stripe above the eye',\n",
       "  '- black stripe below the eye',\n",
       "  '- white underside of the wing',\n",
       "  '- black back and wings with white spots',\n",
       "  '- black tail with white outer feathers',\n",
       "  '- white outer tail feathers',\n",
       "  '- black legs and feet',\n",
       "  '',\n",
       "  '',\n",
       "  ''],\n",
       " 'Ruby throated Hummingbird': ['large, slate-gray bird',\n",
       "  '- darker gray on the back and wings',\n",
       "  '- pale yellow-green upperparts',\n",
       "  '- white undersides',\n",
       "  '- dark-gray legs and feet',\n",
       "  '- distinctive white outer tail feathers',\n",
       "  '- dark-gray bill with a yellow-green base',\n",
       "  '- dark brown eyes',\n",
       "  '- distinctive white eyering',\n",
       "  '- distinctive white stripe on the side of the face',\n",
       "  '',\n",
       "  '',\n",
       "  ''],\n",
       " 'Nighthawk': ['darker overall than Northern Waterthrush',\n",
       "  '- warm reddish-brown upperparts',\n",
       "  '- darker wings with distinctive dark wing bars',\n",
       "  '- pale yellowish-brown underparts',\n",
       "  '- distinctive white eyebrow stripe',\n",
       "  '- dark brown bill with yellow-green base',\n",
       "  '- legs and feet are dark grey to black',\n",
       "  '',\n",
       "  '',\n",
       "  ''],\n",
       " 'Artic Tern': ['large, broad-winged bird',\n",
       "  '- dark brown to black plumage with distinctive white patches on the secondaries',\n",
       "  '- large, broad wings with a distinctive black leading edge',\n",
       "  '- long, pointed tail with white outer feathers',\n",
       "  '- large, dark eyes with a distinctive white ring around the iris',\n",
       "  '- long, pointed bill with a distinctive downward curve',\n",
       "  '- dark legs and feet',\n",
       "  '- distinctive flight pattern: slow, steady, and low to the ground, with a distinctive \"flap-gliding\" motion',\n",
       "  '',\n",
       "  '',\n",
       "  ''],\n",
       " 'Common Tern': ['large, broad-winged bird',\n",
       "  '- dark brown upperparts with distinctive white wing patches',\n",
       "  '- pale yellowish-brown underparts',\n",
       "  '- distinctive white stripe above the eye',\n",
       "  '- dark brown bill with a yellowish base',\n",
       "  '- legs and feet are dark brown',\n",
       "  '- distinctive flight pattern: slow, steady, and labored with a distinctive \"waddling\" gait',\n",
       "  '- does not have the swift, direct flight of a Nighthawk',\n",
       "  '- does not have the distinctive \"flying-V\" shape of a Nighthawk in flight',\n",
       "  '',\n",
       "  '',\n",
       "  ''],\n",
       " 'Northern Waterthrush': ['iridescent red throat patch',\n",
       "  '- green back and sides',\n",
       "  '- white belly and undertail coverts',\n",
       "  '- dark brown tail with white outer feathers',\n",
       "  '- white outer tail feathers',\n",
       "  '- dark brown legs and feet',\n",
       "  '- long, slender, straight bill',\n",
       "  '- dark brown eyes',\n",
       "  '- no distinctive eye stripe',\n",
       "  '- no white spot on the throat',\n",
       "  '',\n",
       "  ''],\n",
       " 'Louisiana Waterthrush': ['small, slender hummingbird',\n",
       "  '- iridescent green back and wings',\n",
       "  '- purple throat patch',\n",
       "  '- white belly and undertail coverts',\n",
       "  '- dark brown tail with white outer feathers',\n",
       "  '- dark brown bill with pinkish base',\n",
       "  '- dark brown eyes',\n",
       "  '- long, slender, dark brown tail',\n",
       "  '- legs and feet are dark greyish-black',\n",
       "  '',\n",
       "  '',\n",
       "  ''],\n",
       " 'American Three toed Woodpecker': ['slender, agile bird',\n",
       "  '- dark grey upperparts',\n",
       "  '- white underparts',\n",
       "  '- pale yellow-green bill',\n",
       "  '- dark eye stripe',\n",
       "  '- dark legs and webbed feet',\n",
       "  '- foraging in the water, swimming and diving with ease',\n",
       "  '- distinctive black and white striped head and neck',\n",
       "  '- long, pointed tail',\n",
       "  '- breeds in colonies on rocky coasts and islands',\n",
       "  '- winters in coastal areas',\n",
       "  '',\n",
       "  ''],\n",
       " 'Red cockaded Woodpecker': ['larger and more slender than Common Tern',\n",
       "  '- dark grey upperparts',\n",
       "  '- pale grey-white underparts',\n",
       "  '- dark grey bill with dark grey or blackish tip',\n",
       "  '- dark brown eyes',\n",
       "  '- pale yellow legs and feet',\n",
       "  '- forked tail',\n",
       "  '- breeds in the Arctic and sub-Arctic regions',\n",
       "  '- non-breeding plumage similar to Common Tern but with darker grey upperparts and pale grey-white underparts',\n",
       "  '',\n",
       "  '']}"
      ]
     },
     "execution_count": 17,
     "metadata": {},
     "output_type": "execute_result"
    }
   ],
   "source": [
    "descriptor_dict"
   ]
  },
  {
   "cell_type": "code",
   "execution_count": 52,
   "metadata": {},
   "outputs": [],
   "source": [
    "import json\n",
    "import os\n",
    "path = \"/export/home/ru86qer/classify_by_description_release/descriptors\"\n",
    "with open(os.path.join(path, \"contrastive_descriptions_1.json\"), 'w') as fp:\n",
    "    json.dump(descriptor_dict, fp, indent=4)"
   ]
  }
 ],
 "metadata": {
  "kernelspec": {
   "display_name": "class",
   "language": "python",
   "name": "python3"
  },
  "language_info": {
   "codemirror_mode": {
    "name": "ipython",
    "version": 3
   },
   "file_extension": ".py",
   "mimetype": "text/x-python",
   "name": "python",
   "nbconvert_exporter": "python",
   "pygments_lexer": "ipython3",
   "version": "3.11.4"
  },
  "orig_nbformat": 4
 },
 "nbformat": 4,
 "nbformat_minor": 2
}
