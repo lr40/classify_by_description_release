{
 "cells": [
  {
   "cell_type": "markdown",
   "metadata": {},
   "source": [
    "# Modify cub_xxx_modified as a custom dataset"
   ]
  },
  {
   "cell_type": "code",
   "execution_count": 1,
   "metadata": {},
   "outputs": [
    {
     "name": "stdout",
     "output_type": "stream",
     "text": [
      "Creating a customized CUB Dataset that only contains the following classes:\n",
      "--------------------\n",
      "Red_cockaded_Woodpecker\n",
      "American_Three_toed_Woodpecker\n",
      "--------------------\n",
      "Louisiana_Waterthrush\n",
      "Northern_Waterthrush\n",
      "--------------------\n",
      "Chuck_will_Widow\n",
      "Nighthawk\n",
      "--------------------\n",
      "Anna_Hummingbird\n",
      "Ruby_throated_Hummingbird\n",
      "--------------------\n",
      "Artic_Tern\n",
      "Common_Tern\n",
      "--------------------\n"
     ]
    }
   ],
   "source": [
    "import os\n",
    "cub_200_path = '/export/scratch/ru86qer/datasets/cub_200_complete/CUB_200_2011'\n",
    "cub_xxx_path = '/export/scratch/ru86qer/datasets/cub_xxx_modified/CUB_200_2011'\n",
    "cub_xxx_classnumbers = [190,187,184,183,22,92,67,68,141,144] #[22,92,187,190]\n",
    "label_to_classname = []\n",
    "with open(os.path.join(cub_200_path,'classes.txt'),'r') as f:\n",
    "    for line in f:\n",
    "        label_to_classname.append(line.strip().split(' ')[1].split('.')[1])\n",
    "\n",
    "def get_label_to_classname(classnumber):\n",
    "    return label_to_classname[classnumber - 1]\n",
    "\n",
    "print(\"Creating a customized CUB Dataset that only contains the following classes:\")\n",
    "for i,classnumber in enumerate(cub_xxx_classnumbers):\n",
    "    if (i % 2)==0:\n",
    "        print(\"--------------------\")\n",
    "    print(get_label_to_classname(classnumber))\n",
    "print(\"--------------------\")"
   ]
  },
  {
   "cell_type": "markdown",
   "metadata": {},
   "source": [
    "### Restore all image directories"
   ]
  },
  {
   "cell_type": "code",
   "execution_count": 2,
   "metadata": {},
   "outputs": [],
   "source": [
    "excluded_image_dirs = os.listdir(os.path.join(cub_xxx_path, 'excluded_images'))\n",
    "for dir in excluded_image_dirs:\n",
    "    os.system(f'mv {os.path.join(cub_xxx_path, \"excluded_images\", dir)} {os.path.join(cub_xxx_path, \"images\", dir)}')"
   ]
  },
  {
   "cell_type": "markdown",
   "metadata": {},
   "source": [
    "### Empty all txt files in cub_xxx_path"
   ]
  },
  {
   "cell_type": "code",
   "execution_count": 3,
   "metadata": {},
   "outputs": [],
   "source": [
    "for file in os.listdir(cub_xxx_path):\n",
    "    if file.endswith('.txt'):\n",
    "        open(os.path.join(cub_xxx_path, file), 'w').close()"
   ]
  },
  {
   "cell_type": "markdown",
   "metadata": {},
   "source": [
    "### Modify classes.txt"
   ]
  },
  {
   "cell_type": "code",
   "execution_count": 4,
   "metadata": {},
   "outputs": [],
   "source": [
    "#reference classes\n",
    "with open(os.path.join(cub_200_path,\"classes.txt\"), 'r') as f:\n",
    "    cub_200_lines_0 = [line for line in f.readlines()]\n",
    "cub_xxx_lines_0 = [line for line in cub_200_lines_0 if int(line.split(' ')[0]) in cub_xxx_classnumbers]\n",
    "with open(os.path.join(cub_xxx_path,\"classes.txt\"), 'w') as f:\n",
    "    f.writelines(cub_xxx_lines_0)"
   ]
  },
  {
   "cell_type": "markdown",
   "metadata": {},
   "source": [
    "### Modify /images/"
   ]
  },
  {
   "cell_type": "code",
   "execution_count": 5,
   "metadata": {},
   "outputs": [],
   "source": [
    "dirs_to_include = [line.split(' ')[1].strip() for line in cub_xxx_lines_0]\n",
    "dirs=os.listdir(os.path.join(cub_xxx_path,\"images\"))\n",
    "for dir in dirs:\n",
    "    if dir not in dirs_to_include:\n",
    "        os.system(f'mv {os.path.join(cub_xxx_path, \"images\", dir)} {os.path.join(cub_xxx_path, \"excluded_images\", dir)}')"
   ]
  },
  {
   "cell_type": "markdown",
   "metadata": {},
   "source": [
    "### Modify image_class_labels.txt"
   ]
  },
  {
   "cell_type": "code",
   "execution_count": 6,
   "metadata": {},
   "outputs": [],
   "source": [
    "with open(os.path.join(cub_200_path,\"image_class_labels.txt\"), 'r') as f:\n",
    "    cub_200_lines_1 = [line for line in f.readlines()]\n",
    "cub_xxx_lines_1 = [line for line in cub_200_lines_1 if int(line.split(' ')[1]) in cub_xxx_classnumbers]\n",
    "with open(os.path.join(cub_xxx_path,\"image_class_labels.txt\"), 'w') as f:\n",
    "    f.writelines(cub_xxx_lines_1)"
   ]
  },
  {
   "cell_type": "markdown",
   "metadata": {},
   "source": [
    "### Modify images.txt"
   ]
  },
  {
   "cell_type": "code",
   "execution_count": 7,
   "metadata": {},
   "outputs": [],
   "source": [
    "cub_xxx_image_indices = [int(line.split(' ')[0]) for line in cub_xxx_lines_1]\n",
    "with open(os.path.join(cub_200_path,\"images.txt\"), 'r') as f:\n",
    "    cub_xxx_lines_2 = [line for line in f.readlines() if int(line.split(' ')[0]) in cub_xxx_image_indices]\n",
    "with open(os.path.join(cub_xxx_path,\"images.txt\"), 'w') as f:\n",
    "    f.writelines(cub_xxx_lines_2)"
   ]
  },
  {
   "cell_type": "code",
   "execution_count": 8,
   "metadata": {},
   "outputs": [
    {
     "data": {
      "text/plain": [
       "582"
      ]
     },
     "execution_count": 8,
     "metadata": {},
     "output_type": "execute_result"
    }
   ],
   "source": [
    "len(cub_xxx_image_indices)"
   ]
  },
  {
   "cell_type": "markdown",
   "metadata": {},
   "source": [
    "### Modify train_test_split.txt"
   ]
  },
  {
   "cell_type": "code",
   "execution_count": 9,
   "metadata": {},
   "outputs": [],
   "source": [
    "with open(os.path.join(cub_200_path,\"train_test_split.txt\"), 'r') as f:\n",
    "    cub_xxx_lines_3 = [line for line in f.readlines() if int(line.split(' ')[0]) in cub_xxx_image_indices]\n",
    "with open(os.path.join(cub_xxx_path,\"train_test_split.txt\"), 'w') as f:\n",
    "    f.writelines(cub_xxx_lines_3)"
   ]
  }
 ],
 "metadata": {
  "kernelspec": {
   "display_name": "class",
   "language": "python",
   "name": "python3"
  },
  "language_info": {
   "codemirror_mode": {
    "name": "ipython",
    "version": 3
   },
   "file_extension": ".py",
   "mimetype": "text/x-python",
   "name": "python",
   "nbconvert_exporter": "python",
   "pygments_lexer": "ipython3",
   "version": "3.11.4"
  },
  "orig_nbformat": 4
 },
 "nbformat": 4,
 "nbformat_minor": 2
}
