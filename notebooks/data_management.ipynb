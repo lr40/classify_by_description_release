{
 "cells": [
  {
   "cell_type": "markdown",
   "metadata": {},
   "source": [
    "# Save a json file with a nice indentation"
   ]
  },
  {
   "cell_type": "code",
   "execution_count": 1,
   "metadata": {},
   "outputs": [],
   "source": [
    "#open llama2_cub.json and save it with indent=4\n",
    "import json\n",
    "with open('llama2_cub.json', 'r') as fp:\n",
    "    descriptors = json.load(fp)\n",
    "with open('llama2_cub_pretty.json', 'w') as fp:  \n",
    "    json.dump(descriptors, fp, indent=4)\n"
   ]
  },
  {
   "cell_type": "markdown",
   "metadata": {},
   "source": [
    "# Shuffle the descriptors class-wise"
   ]
  },
  {
   "cell_type": "code",
   "execution_count": 5,
   "metadata": {},
   "outputs": [],
   "source": [
    "import json\n",
    "import random\n",
    "\n",
    "input_path = 'descriptors/descriptors_cub_llama2_prompt_0_run_0.json'\n",
    "output_path = input_path.replace('.json', '_class-wise_permuted.json')\n",
    "\n",
    "# Load the JSON data\n",
    "with open(input_path, 'r') as f:\n",
    "    data = json.load(f)\n",
    "\n",
    "# Collect all descriptors into a list\n",
    "all_descriptors = []\n",
    "for class_label, descriptors in data.items():\n",
    "    all_descriptors.append(descriptors)\n",
    "\n",
    "# Shuffle the list of descriptors\n",
    "random.shuffle(all_descriptors)\n",
    "\n",
    "# Assign the shuffled descriptors back to the class labels\n",
    "for i,class_label in enumerate(data):\n",
    "    data[class_label] = all_descriptors[i]\n",
    "\n",
    "# Save the modified JSON data\n",
    "with open(output_path, 'w') as f:\n",
    "    json.dump(data, f, indent=4)\n"
   ]
  },
  {
   "cell_type": "markdown",
   "metadata": {},
   "source": [
    "# Shuffle the descriptors also inter-class wise"
   ]
  },
  {
   "cell_type": "code",
   "execution_count": 4,
   "metadata": {},
   "outputs": [],
   "source": [
    "import json\n",
    "import random\n",
    "\n",
    "input_path = 'descriptors/descriptors_cub_llama2_prompt_0_run_0.json'\n",
    "output_path = input_path.replace('.json', '_permuted.json')\n",
    "\n",
    "# Load the JSON data\n",
    "with open(input_path, 'r') as f:\n",
    "    data = json.load(f)\n",
    "\n",
    "# Collect all descriptors into a list\n",
    "all_descriptors = []\n",
    "for class_label, descriptors in data.items():\n",
    "    all_descriptors.extend(descriptors)\n",
    "\n",
    "# Shuffle the list of descriptors\n",
    "random.shuffle(all_descriptors)\n",
    "\n",
    "# Assign the shuffled descriptors back to the class labels\n",
    "for class_label in data:\n",
    "    num_descriptors = len(data[class_label])\n",
    "    data[class_label] = all_descriptors[:num_descriptors]\n",
    "    all_descriptors = all_descriptors[num_descriptors:]\n",
    "\n",
    "# Save the modified JSON data\n",
    "with open(output_path, 'w') as f:\n",
    "    json.dump(data, f, indent=4)\n"
   ]
  },
  {
   "cell_type": "markdown",
   "metadata": {},
   "source": [
    "# Randomize class names"
   ]
  },
  {
   "cell_type": "code",
   "execution_count": 4,
   "metadata": {},
   "outputs": [],
   "source": [
    "import json\n",
    "import random\n",
    "import string\n",
    "\n",
    "input_path = 'descriptors/descriptors_cub_llama2_prompt_0_run_0_randomized.json'\n",
    "output_path = input_path.replace('.json', '_randomized_class_names.json')\n",
    "\n",
    "# Load the JSON data\n",
    "with open(input_path, 'r') as f:\n",
    "    data = json.load(f)\n",
    "\n",
    "# Helper function to generate a random string of length between 15 to 20\n",
    "def generate_random_string():\n",
    "    length = random.randint(15, 20)\n",
    "    return ''.join(random.choices(string.ascii_letters + string.digits, k=length))\n",
    "\n",
    "\n",
    "# Modify the JSON data: set each class label (key) to a generated random string\n",
    "new_data = {generate_random_string(): v for k, v in data.items()}\n",
    "\n",
    "# Save the modified JSON data\n",
    "with open(output_path, 'w') as f:\n",
    "    json.dump(new_data, f, indent=4)"
   ]
  },
  {
   "cell_type": "markdown",
   "metadata": {},
   "source": [
    "# Generate random descriptors"
   ]
  },
  {
   "cell_type": "code",
   "execution_count": null,
   "metadata": {},
   "outputs": [],
   "source": [
    "import json\n",
    "import random\n",
    "import string\n",
    "\n",
    "input_path = 'descriptors/descriptors_cub_llama2_prompt_0_run_0.json'\n",
    "output_path = input_path.replace('.json', '_randomized_descriptors.json')\n",
    "\n",
    "# Load the JSON data\n",
    "with open(input_path, 'r') as f:\n",
    "    data = json.load(f)\n",
    "\n",
    "# Helper function to generate a random string of length between 15 to 20\n",
    "def generate_random_string():\n",
    "    length = random.randint(15, 20)\n",
    "    return ''.join(random.choices(string.ascii_letters + string.digits, k=length))\n",
    "\n",
    "# Modify the JSON data: set each class label to have a list of 5 random strings\n",
    "for class_label in data:\n",
    "    data[class_label] = [generate_random_string() for _ in range(5)]\n",
    "\n",
    "# Save the modified JSON data\n",
    "with open(output_path, 'w') as f:\n",
    "    json.dump(data, f, indent=4)\n"
   ]
  },
  {
   "cell_type": "markdown",
   "metadata": {},
   "source": [
    "# Create a table with the training results "
   ]
  },
  {
   "cell_type": "code",
   "execution_count": 3,
   "metadata": {},
   "outputs": [],
   "source": [
    "import json\n",
    "import pandas as pd\n",
    "import os\n",
    "\n",
    "path = '/export/home/ru86qer/classify_by_description_release/eval_results_08_29/'\n",
    "\n",
    "results = {}\n",
    "keys = []\n",
    "with open(path+'eval_cub_llama2_prompt2_xxx_run_3_19:44:18', 'r') as f:\n",
    "    data = json.load(f)\n",
    "    key = '7-Billion Parameters'\n",
    "    results[key] = data\n",
    "    keys.append(key)\n",
    "with open(path+'contrastive_descriptions_1_18:14:41.json', 'r') as f:\n",
    "    data = json.load(f)\n",
    "    key = \"Erroneously: Same Descriptors for All Classes\"\n",
    "    results[key] = data\n",
    "    keys.append(key)\n",
    "#with open(path+'eval_cub_llama2_prompt_0_run_0_randomized_randomized_class_names.json', 'r') as f:\n",
    "    #data = json.load(f)\n",
    "    #key = 'Random Class names + random descriptions'\n",
    "    #results[key] = data\n",
    "    #keys.append(key)\n",
    "#with open(path+'eval_cub_llama2_prompt_0_run_0.json', 'r') as f:\n",
    "    #data = json.load(f)\n",
    "    #key = 'Ordinary Descriptors'\n",
    "    #results[key] = ordinary_descriptors\n",
    "    #keys.append(key)\n",
    "\n",
    "data = {\n",
    "    \"Backbone\": [\"ViT-B/32\", \"ViT-B/16\", \"ViT-L/14\", \"ViT-L/14@336px\"],\n",
    "    \"GPT Values\": [52.57,57.75,63.46,65.257]\n",
    "} | {key: [] for key in keys}\n",
    "\n",
    "for key in results.keys():\n",
    "    for backbone in data[\"Backbone\"]:\n",
    "        data[key].append(results[key][backbone][\"Total Description-based Top-1 Accuracy: \"])\n",
    "\n",
    "df = pd.DataFrame(data)\n",
    "\n",
    "df = df.round(2)\n",
    "\n",
    "# save this as an excel file\n",
    "for i in range(0, 10000):\n",
    "    if not os.path.exists(path+\"results_{}.xlsx\".format(i)):\n",
    "        df.to_excel(path+\"results_{}.xlsx\".format(i), index=False)\n",
    "        break\n"
   ]
  },
  {
   "cell_type": "markdown",
   "metadata": {},
   "source": [
    "# Compare if two json files are equal"
   ]
  },
  {
   "cell_type": "code",
   "execution_count": 3,
   "metadata": {},
   "outputs": [
    {
     "name": "stdout",
     "output_type": "stream",
     "text": [
      "Sooty_Albatross ['black plumage', 'white patches on the face', 'long, pointed wings', 'long, slender bill', 'dark eyes', 'pale legs and feet'] ['black plumage', 'white patches on the face', 'long, slender wings', 'long, pointed tail', 'webbed feet', 'black bill']\n",
      "Vermilion_Flycatcher ['black mask around the eyes', 'white belly', 'grey-brown back', 'long, pointed tail', 'black legs and feet', 'distinctive black stripes on the wings'] ['black mask around the eyes', 'white throat patch', 'black or dark brown wings and tail', 'medium-sized bird with a long, pointed bill', 'perches on a branch or']\n",
      "Eared_Grebe ['black, white, and brown plumage', 'distinctive ear patches', 'long, pointed bill', 'dark eyes', 'long, slender neck', 'pale yellow legs and feet'] ['black and white plumage', 'distinctive ear tufts', 'long, slender neck', 'bright red eyes', 'black legs and feet', 'dive and swim in a graceful, slow motion']\n",
      "Pomarine_Jaeger ['dark grey upperparts', 'white underparts', 'white patches on the wings', 'dark grey tail', 'long, pointed wings', 'long, pointed bill', 'dark grey legs and feet'] ['dark grey upperparts', 'white underparts', 'pale yellow bill', 'dark eye patch', 'pale yellow legs and feet', 'long, pointed wings', 'dark grey tail']\n",
      "Blue_Jay ['distinctive crest on the head', 'black throat patch', 'distinctive blue and white wings', 'black tail with white outer feathers', 'distinctive call'] ['distinctive crest on the head', 'black stripes on the wings and tail', 'distinctive blue and white patches on the wings', 'black beak', 'distinctive call']\n",
      "Black_and_white_Warbler ['distinctive white eyebrow stripe', 'yellow or orange patch on the wing', 'white underside', 'dark legs and feet', 'distinctive song'] ['distinctive white eyebrow stripe', 'yellow or orange patch on the wing', 'black legs and feet', 'long, pointed bill', 'small size']\n",
      "Downy_Woodpecker ['black and white striped back', 'red patch on the back of the head', 'black stripes on the neck and chest', 'white underside', 'black beak', 'white eyestripe'] ['black and white striped back', 'red patch on the back of the head', 'black stripes on the neck and chest', 'white underside', 'black beak', 'white eyestripes']\n",
      "Rock_Wren ['grey and white plumage with a distinctive black stripe on the head', 'a distinctive crest on the head', 'a long, pointed bill', 'a distinctive white'] ['grey and white plumage with a distinctive black stripe on the head', 'a distinctive white patch on the wing', 'a long, pointed bill', 'a distinctive song']\n"
     ]
    }
   ],
   "source": [
    "import json\n",
    "#load descriptors_cub_llama2_prompt_0_topk1_run_0.json and descriptors_cub_llama2_prompt_0_topk1_run_1.json and compare them\n",
    "#\n",
    "with open('/export/home/ru86qer/classify_by_description_release/descriptors/descriptors_cub_llama2_prompt_0_topk1_run_0.json', 'r') as f:\n",
    "    descriptors0 = json.load(f)\n",
    "with open('/export/home/ru86qer/classify_by_description_release/descriptors/descriptors_cub_llama2_prompt_0_topk1_run_1.json', 'r') as f:\n",
    "    descriptors1 = json.load(f)\n",
    "\n",
    "for key, value in descriptors0.items():\n",
    "    if value != descriptors1[key]:\n",
    "        print(key, value, descriptors1[key]) "
   ]
  },
  {
   "cell_type": "markdown",
   "metadata": {},
   "source": [
    "# No, they are not equal. Therefore, the llama2 output seems to be stochastic."
   ]
  },
  {
   "cell_type": "code",
   "execution_count": 1,
   "metadata": {},
   "outputs": [
    {
     "name": "stdout",
     "output_type": "stream",
     "text": [
      "dict_keys(['__header__', '__version__', '__globals__', 'annotations', 'class_names'])\n"
     ]
    }
   ],
   "source": [
    "import scipy.io\n",
    "\n",
    "mat = scipy.io.loadmat('/export/scratch/ru86qer/datasets/cars_download/cars_annos.mat')\n",
    "print(mat.keys())  # This will show you the variable names stored in the .mat file."
   ]
  },
  {
   "cell_type": "code",
   "execution_count": 3,
   "metadata": {},
   "outputs": [
    {
     "data": {
      "text/plain": [
       "array([[(array(['car_ims/000001.jpg'], dtype='<U18'), array([[112]], dtype=uint8), array([[7]], dtype=uint8), array([[853]], dtype=uint16), array([[717]], dtype=uint16), array([[1]], dtype=uint8), array([[0]], dtype=uint8)),\n",
       "        (array(['car_ims/000002.jpg'], dtype='<U18'), array([[48]], dtype=uint8), array([[24]], dtype=uint8), array([[441]], dtype=uint16), array([[202]], dtype=uint8), array([[1]], dtype=uint8), array([[0]], dtype=uint8)),\n",
       "        (array(['car_ims/000003.jpg'], dtype='<U18'), array([[7]], dtype=uint8), array([[4]], dtype=uint8), array([[277]], dtype=uint16), array([[180]], dtype=uint8), array([[1]], dtype=uint8), array([[0]], dtype=uint8)),\n",
       "        ...,\n",
       "        (array(['car_ims/016183.jpg'], dtype='<U18'), array([[25]], dtype=uint8), array([[32]], dtype=uint8), array([[587]], dtype=uint16), array([[359]], dtype=uint16), array([[196]], dtype=uint8), array([[1]], dtype=uint8)),\n",
       "        (array(['car_ims/016184.jpg'], dtype='<U18'), array([[56]], dtype=uint8), array([[60]], dtype=uint8), array([[208]], dtype=uint8), array([[186]], dtype=uint8), array([[196]], dtype=uint8), array([[1]], dtype=uint8)),\n",
       "        (array(['car_ims/016185.jpg'], dtype='<U18'), array([[1]], dtype=uint8), array([[1]], dtype=uint8), array([[200]], dtype=uint8), array([[131]], dtype=uint8), array([[196]], dtype=uint8), array([[1]], dtype=uint8))]],\n",
       "      dtype=[('relative_im_path', 'O'), ('bbox_x1', 'O'), ('bbox_y1', 'O'), ('bbox_x2', 'O'), ('bbox_y2', 'O'), ('class', 'O'), ('test', 'O')])"
      ]
     },
     "execution_count": 3,
     "metadata": {},
     "output_type": "execute_result"
    }
   ],
   "source": [
    "mat['annotations']"
   ]
  }
 ],
 "metadata": {
  "kernelspec": {
   "display_name": "class",
   "language": "python",
   "name": "python3"
  },
  "language_info": {
   "codemirror_mode": {
    "name": "ipython",
    "version": 3
   },
   "file_extension": ".py",
   "mimetype": "text/x-python",
   "name": "python",
   "nbconvert_exporter": "python",
   "pygments_lexer": "ipython3",
   "version": "3.11.4"
  },
  "orig_nbformat": 4
 },
 "nbformat": 4,
 "nbformat_minor": 2
}
